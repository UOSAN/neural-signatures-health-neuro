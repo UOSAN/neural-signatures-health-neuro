{
 "cells": [
  {
   "cell_type": "code",
   "execution_count": 3,
   "metadata": {},
   "outputs": [],
   "source": [
    "import warnings\n",
    "warnings.filterwarnings('ignore')"
   ]
  },
  {
   "cell_type": "code",
   "execution_count": 4,
   "metadata": {},
   "outputs": [],
   "source": [
    "from nltools.datasets import download_collection\n",
    "from nltools.data import Brain_Data\n",
    "from nilearn.plotting import plot_glass_brain\n",
    "import numpy as np\n",
    "import pandas as pd\n",
    "import glob"
   ]
  },
  {
   "cell_type": "code",
   "execution_count": 5,
   "metadata": {},
   "outputs": [
    {
     "name": "stdout",
     "output_type": "stream",
     "text": [
      "['/Users/danicosme/Documents/code/sanlab/NSC_scripts/data/fx_cons/CH001_reappraiseCraveAll.nii.gz', '/Users/danicosme/Documents/code/sanlab/NSC_scripts/data/fx_cons/CH002_lookCraveAll.nii.gz', '/Users/danicosme/Documents/code/sanlab/NSC_scripts/data/fx_cons/CH002_reappraiseCraveAll.nii.gz', '/Users/danicosme/Documents/code/sanlab/NSC_scripts/data/fx_cons/CH003_lookCraveAll.nii.gz']\n",
      "\n",
      "    id study subjectID condition contrast  map\n",
      "1   2    CH     CH001  regulate     rest  con\n",
      "2   3    CH     CH002      look     rest  con\n",
      "3   4    CH     CH002  regulate     rest  con\n",
      "4   5    CH     CH003      look     rest  con\n"
     ]
    }
   ],
   "source": [
    "files=sorted(glob.glob(\"/Users/danicosme/Documents/code/sanlab/NSC_scripts/data/fx_cons/*CraveAll.nii.gz\"))\n",
    "metadata=pd.read_csv(\"/Users/danicosme/Documents/code/sanlab/NSC_scripts/fMRI/mvpa/metadata/metadata_rest_cons.csv\")\n",
    "\n",
    "print(files[1:5])\n",
    "print('\\n', metadata[1:5])"
   ]
  },
  {
   "cell_type": "code",
   "execution_count": null,
   "metadata": {},
   "outputs": [],
   "source": [
    "data = Brain_Data(files,X=metadata)"
   ]
  },
  {
   "cell_type": "code",
   "execution_count": null,
   "metadata": {
    "scrolled": false
   },
   "outputs": [],
   "source": [
    "# partition data for development and holdout samples\n",
    "from sklearn.model_selection import train_test_split\n",
    "from sklearn.model_selection import GroupShuffleSplit\n",
    "\n",
    "#X_develop, X_holdout, Y_develop, Y_holdout = train_test_split(data.X, data.X['condition'],test_size=0.2,random_state=42)\n",
    "train_inds, test_inds = next(GroupShuffleSplit(test_size=0.2, random_state=42).split(data.X, groups=data.X['subjectID']))\n",
    "X_develop, X_holdout, Y_develop, Y_holdout = data.X.loc[train_inds], data.X.loc[test_inds], data.X['condition'][train_inds], data.X['condition'][test_inds]\n",
    "\n",
    "#reset indices\n",
    "X_dev = X_develop.reset_index(drop=True)\n",
    "\n",
    "train_dev_inds, test_dev_inds = next(GroupShuffleSplit(test_size=0.2, random_state=65).split(X_dev, groups=X_dev['subjectID']))\n",
    "X_dev_train, X_dev_test, Y_dev_train, Y_dev_test = X_dev.loc[train_dev_inds], X_dev.loc[test_dev_inds], X_dev['condition'][train_dev_inds], X_dev['condition'][test_dev_inds]\n",
    "\n",
    "print('Development',X_develop[['subjectID','condition']][0:10])\n",
    "print('Development train',X_dev_train[['subjectID','condition']][0:10])\n",
    "print('Development test',X_dev_test[['subjectID','condition']][0:10])\n",
    "print('\\nHoldout', X_holdout[['subjectID','condition']][0:10])\n",
    "\n",
    "print('\\nDevelopment N = ', len(X_develop))\n",
    "print('Development train N = ', len(X_dev_train))\n",
    "print('Development test N = ', len(X_dev_test))\n",
    "print('Holdout N =', len(X_holdout))\n",
    "\n"
   ]
  },
  {
   "cell_type": "code",
   "execution_count": null,
   "metadata": {
    "scrolled": true
   },
   "outputs": [],
   "source": [
    "# subset train data\n",
    "train = data[np.where(data.X['id'].isin(X_dev_train['id']))[0]]\n",
    "print('Development train N = ', len(train))\n",
    "\n",
    "look_train = data[np.where(train.X['condition']=='look')[0]]\n",
    "#look = data[np.where((train.X['condition']=='look') & (train.X['Study']==\"DK\"))[0]]\n",
    "print('Development train look N = ', len(look_train))\n",
    "\n",
    "regulate_train = data[np.where(train.X['condition']=='regulate')[0]]\n",
    "#regulate = data[np.where((train.X['condition']=='regulate') & (train.X['Study']==\"DK\"))[0]]\n",
    "print('Development train regulate N = ', len(regulate_train))\n",
    "\n",
    "dat_train = look_train.append(regulate_train)\n",
    "dat_train.Y = pd.DataFrame(np.concatenate([np.ones(len(regulate_train)),np.zeros(len(look_train))]))\n",
    "subject_id_train = np.concatenate([regulate_train.X['subjectID'].values,look_train.X['subjectID'].values])\n",
    "\n",
    "# subset test data\n",
    "test = data[np.where(data.X['id'].isin(X_dev_test['id']))[0]]\n",
    "print('\\nDevelopment test N = ', len(test))\n",
    "\n",
    "look_test = data[np.where(test.X['condition']=='look')[0]]\n",
    "#look = data[np.where((test.X['condition']=='look') & (test.X['Study']==\"DK\"))[0]]\n",
    "print('Development test look N = ', len(look_test))\n",
    "\n",
    "regulate_test = data[np.where(test.X['condition']=='regulate')[0]]\n",
    "#regulate = data[np.where((test.X['condition']=='regulate') & (test.X['Study']==\"DK\"))[0]]\n",
    "print('Development test regulate N = ', len(regulate_test))\n",
    "\n",
    "dat_test = look_test.append(regulate_test)\n",
    "dat_test.Y = pd.DataFrame(np.concatenate([np.ones(len(regulate_test)),np.zeros(len(look_test))]))\n",
    "subject_id_test = np.concatenate([regulate_test.X['subjectID'].values,look_test.X['subjectID'].values])"
   ]
  },
  {
   "cell_type": "code",
   "execution_count": null,
   "metadata": {},
   "outputs": [],
   "source": [
    "# mean activation\n",
    "plot_glass_brain(look_train.mean().to_nifti())\n",
    "plot_glass_brain(look_test.mean().to_nifti())\n",
    "\n",
    "plot_glass_brain(regulate_train.mean().to_nifti())\n",
    "plot_glass_brain(regulate_test.mean().to_nifti())"
   ]
  },
  {
   "cell_type": "code",
   "execution_count": null,
   "metadata": {
    "scrolled": true
   },
   "outputs": [],
   "source": [
    "svm_stats = dat_train.predict(algorithm='svm', cv_dict={'type': 'kfolds','n_folds': 5, 'subject_id':subject_id_train, 'stratified':data.Y}, **{'kernel':\"linear\"})\n"
   ]
  },
  {
   "cell_type": "code",
   "execution_count": null,
   "metadata": {
    "scrolled": true
   },
   "outputs": [],
   "source": [
    "ridge_stats = dat_train.predict(algorithm='ridgeClassifier', cv_dict={'type': 'kfolds','n_folds': 5, 'subject_id':subject_id_train, 'stratified':data.Y})\n"
   ]
  },
  {
   "cell_type": "code",
   "execution_count": null,
   "metadata": {},
   "outputs": [],
   "source": [
    "logistic_stats = dat_train.predict(algorithm='logistic', cv_dict={'type': 'kfolds','n_folds': 5, 'subject_id': subject_id_train, 'stratified':data.Y})\n"
   ]
  },
  {
   "cell_type": "code",
   "execution_count": 42,
   "metadata": {},
   "outputs": [
    {
     "name": "stdout",
     "output_type": "stream",
     "text": [
      "------------------------\n",
      ".:ROC Analysis Summary:.\n",
      "------------------------\n",
      "Accuracy:           0.83\n",
      "Accuracy SE:        0.05\n",
      "Accuracy p-value:   0.00\n",
      "Sensitivity:        0.86\n",
      "Specificity:        0.80\n",
      "AUC:                0.90\n",
      "PPV:                0.81\n",
      "------------------------\n",
      "------------------------\n",
      ".:ROC Analysis Summary:.\n",
      "------------------------\n",
      "Accuracy:           0.82\n",
      "Accuracy SE:        0.04\n",
      "Accuracy p-value:   0.00\n",
      "Sensitivity:        0.81\n",
      "Specificity:        0.83\n",
      "AUC:                0.90\n",
      "PPV:                0.83\n",
      "------------------------\n",
      "------------------------\n",
      ".:ROC Analysis Summary:.\n",
      "------------------------\n",
      "Accuracy:           0.82\n",
      "Accuracy SE:        0.04\n",
      "Accuracy p-value:   0.00\n",
      "Sensitivity:        0.81\n",
      "Specificity:        0.83\n",
      "AUC:                0.90\n",
      "PPV:                0.83\n",
      "------------------------\n"
     ]
    },
    {
     "data": {
      "image/png": "[encoded data removed]",
      "text/plain": [
       "<Figure size 432x288 with 1 Axes>"
      ]
     },
     "metadata": {
      "needs_background": "light"
     },
     "output_type": "display_data"
    },
    {
     "data": {
      "image/png": "[encoded data removed]",
      "text/plain": [
       "<Figure size 432x288 with 1 Axes>"
      ]
     },
     "metadata": {
      "needs_background": "light"
     },
     "output_type": "display_data"
    },
    {
     "data": {
      "image/png": "[encoded data removed]",
      "text/plain": [
       "<Figure size 432x288 with 1 Axes>"
      ]
     },
     "metadata": {
      "needs_background": "light"
     },
     "output_type": "display_data"
    }
   ],
   "source": [
    "from nltools.analysis import Roc\n",
    "\n",
    "# svm\n",
    "roc_svm = Roc(input_values=svm_stats['dist_from_hyperplane_xval'], \n",
    "\t\tbinary_outcome=svm_stats['Y'].astype(bool))\n",
    "roc_svm.plot()\n",
    "roc_svm.summary()\n",
    "\n",
    "# ridge\n",
    "roc_ridge = Roc(input_values=ridge_stats['dist_from_hyperplane_xval'], \n",
    "\t\tbinary_outcome=ridge_stats['Y'].astype(bool))\n",
    "roc_ridge.plot()\n",
    "roc_ridge.summary()\n",
    "\n",
    "\n",
    "# logistic\n",
    "roc_logistic = Roc(input_values=logistic_stats['prob_xval'][:,1], \n",
    "\t\tbinary_outcome=logistic_stats['Y'].astype(bool))\n",
    "roc_logistic.plot()\n",
    "roc_logistic.summary()"
   ]
  },
  {
   "cell_type": "code",
   "execution_count": null,
   "metadata": {
    "scrolled": false
   },
   "outputs": [],
   "source": [
    "from nilearn.plotting import plot_glass_brain\n",
    "\n",
    "plot_glass_brain(svm_stats['weight_map'].to_nifti())\n",
    "plot_glass_brain(ridge_stats['weight_map'].to_nifti())\n",
    "plot_glass_brain(logistic_stats['weight_map'].to_nifti())\n"
   ]
  },
  {
   "cell_type": "code",
   "execution_count": null,
   "metadata": {
    "scrolled": true
   },
   "outputs": [],
   "source": [
    "# test out of sample prediction accuracy\n",
    "svm_predicted = test.similarity(svm_stats['weight_map'],'dot_product') + svm_stats['intercept']\n",
    "svm_indices = (svm_predicted > 0).astype(np.int)\n",
    "svm_predicted_classes = np.array(['regulate', 'look'])[svm_indices]\n",
    "svm_mean_accuracy = (svm_predicted_classes == test.X['condition']).mean()\n",
    "print(\"SVM accuracy: \", svm_mean_accuracy)\n",
    "\n",
    "ridge_predicted = test.similarity(ridge_stats['weight_map'],'dot_product') + ridge_stats['intercept']\n",
    "ridge_indices = (ridge_predicted > 0).astype(np.int)\n",
    "ridge_predicted_classes = np.array(['regulate', 'look'])[ridge_indices]\n",
    "ridge_mean_accuracy = (ridge_predicted_classes == test.X['condition']).mean()\n",
    "print(\"Ridge accuracy: \", ridge_mean_accuracy)\n",
    "\n",
    "logistic_predicted = test.similarity(logistic_stats['weight_map'],'dot_product') + logistic_stats['intercept']\n",
    "logistic_indices = (logistic_predicted > 0).astype(np.int)\n",
    "logistic_predicted_classes = np.array(['regulate', 'look'])[logistic_indices]\n",
    "logistic_mean_accuracy = (logistic_predicted_classes == test.X['condition']).mean()\n",
    "print(\"Logistic accuracy: \", logistic_mean_accuracy)\n",
    "\n",
    "roc = Roc(svm_predicted, test.X['condition'] == \"look\")\n",
    "roc.plot()\n",
    "roc.summary()\n",
    "\n",
    "roc = Roc(ridge_predicted, test.X['condition'] == \"look\")\n",
    "roc.plot()\n",
    "roc.summary()\n",
    "\n",
    "\n",
    "roc = Roc(logistic_predicted, test.X['condition'] == \"look\")\n",
    "roc.plot()\n",
    "roc.summary()\n"
   ]
  },
  {
   "cell_type": "code",
   "execution_count": 18,
   "metadata": {},
   "outputs": [],
   "source": [
    "# save weight map as nifti\n",
    "#svm_stats['weight_map'].write('/Users/danicosme/Documents/code/sanlab/NSC_scripts/fMRI/mvpa/neural_signatures/svm_map.nii')\n",
    "#ridge_stats['weight_map'].write('/Users/danicosme/Documents/code/sanlab/NSC_scripts/fMRI/mvpa/neural_signatures/ridge_map.nii')\n",
    "#logistic_stats['weight_map'].write('/Users/danicosme/Documents/code/sanlab/NSC_scripts/fMRI/mvpa/neural_signatures/logistic_map.nii')\n",
    "#regulate_train.mean().write('/Users/danicosme/Documents/code/sanlab/NSC_scripts/fMRI/mvpa/neural_signatures/reg_train.nii')\n",
    "#reg_look_train.write('/Users/danicosme/Documents/code/sanlab/NSC_scripts/fMRI/mvpa/neural_signatures/reg_look_train.nii')\n",
    "\n"
   ]
  },
  {
   "cell_type": "code",
   "execution_count": 23,
   "metadata": {},
   "outputs": [],
   "source": [
    "# X_holdout.to_csv(\"/Users/danicosme/Documents/code/sanlab/NSC_scripts/fMRI/mvpa/partitions/holdout.csv\")\n",
    "# X_dev_train.to_csv(\"/Users/danicosme/Documents/code/sanlab/NSC_scripts/fMRI/mvpa/partitions/train.csv\")\n",
    "# X_dev_test.to_csv(\"/Users/danicosme/Documents/code/sanlab/NSC_scripts/fMRI/mvpa/partitions/test.csv\")"
   ]
  }
 ],
 "metadata": {
  "kernelspec": {
   "display_name": "Python 3",
   "language": "python",
   "name": "python3"
  },
  "language_info": {
   "codemirror_mode": {
    "name": "ipython",
    "version": 3
   },
   "file_extension": ".py",
   "mimetype": "text/x-python",
   "name": "python",
   "nbconvert_exporter": "python",
   "pygments_lexer": "ipython3",
   "version": "3.7.2"
  }
 },
 "nbformat": 4,
 "nbformat_minor": 2
}
